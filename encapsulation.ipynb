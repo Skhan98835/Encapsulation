{
 "cells": [
  {
   "cell_type": "code",
   "execution_count": 1,
   "id": "2698ac44-f949-4de8-bf3d-e38fa6ff14ed",
   "metadata": {},
   "outputs": [],
   "source": [
    "class test :\n",
    "    \n",
    "    def __init__ (self , a, b):\n",
    "        self.a = a\n",
    "        self.b = b"
   ]
  },
  {
   "cell_type": "code",
   "execution_count": 2,
   "id": "288d04b9-78a0-47c4-9cd1-65c6ca401f85",
   "metadata": {},
   "outputs": [],
   "source": [
    "t= test(23,34)"
   ]
  },
  {
   "cell_type": "code",
   "execution_count": 3,
   "id": "0da45b8d-1126-4de9-bace-3b946c2f07e1",
   "metadata": {},
   "outputs": [],
   "source": [
    "t.a = 123434"
   ]
  },
  {
   "cell_type": "code",
   "execution_count": 4,
   "id": "120dfad4-64cd-4f5b-8448-4cd5131c17cd",
   "metadata": {},
   "outputs": [
    {
     "data": {
      "text/plain": [
       "123434"
      ]
     },
     "execution_count": 4,
     "metadata": {},
     "output_type": "execute_result"
    }
   ],
   "source": [
    "t.a"
   ]
  },
  {
   "cell_type": "code",
   "execution_count": 9,
   "id": "dc89001d-a4b6-4e66-be54-eeca6032814a",
   "metadata": {},
   "outputs": [],
   "source": [
    "class car :\n",
    "    def __init__(self , year, make, model, speed ) :\n",
    "        \n",
    "        self.__year = year\n",
    "        self.__make = make\n",
    "        self.__model = model\n",
    "        self.__speed = 0\n",
    "        \n",
    "    def set_speed(self, speed) :\n",
    "        self.__speed = 0 if speed < 0 else speed\n",
    "        \n",
    "    def get_speed(self) :\n",
    "        return self.__speed"
   ]
  },
  {
   "cell_type": "code",
   "execution_count": 10,
   "id": "94c345ba-528c-4c91-8d4a-d54770231503",
   "metadata": {},
   "outputs": [],
   "source": [
    "c = car(2023, \"toyota\", \"innova\", 35)"
   ]
  },
  {
   "cell_type": "code",
   "execution_count": 11,
   "id": "d9717a4c-25ac-4a3c-a3d6-d2e4a2fa5837",
   "metadata": {},
   "outputs": [
    {
     "data": {
      "text/plain": [
       "2023"
      ]
     },
     "execution_count": 11,
     "metadata": {},
     "output_type": "execute_result"
    }
   ],
   "source": [
    "c._car__year"
   ]
  },
  {
   "cell_type": "code",
   "execution_count": 15,
   "id": "92c2200e-2939-41e0-b89d-447a759b317f",
   "metadata": {},
   "outputs": [],
   "source": [
    "c.set_speed(-3215)"
   ]
  },
  {
   "cell_type": "code",
   "execution_count": 17,
   "id": "f6d5c00a-ab13-4a61-98b4-d7cf60c31ff4",
   "metadata": {},
   "outputs": [
    {
     "data": {
      "text/plain": [
       "0"
      ]
     },
     "execution_count": 17,
     "metadata": {},
     "output_type": "execute_result"
    }
   ],
   "source": [
    "c.get_speed()"
   ]
  },
  {
   "cell_type": "code",
   "execution_count": 18,
   "id": "0e28ef12-bcb2-4777-9feb-c87cbb85d078",
   "metadata": {},
   "outputs": [],
   "source": [
    "c.set_speed(234)"
   ]
  },
  {
   "cell_type": "code",
   "execution_count": 19,
   "id": "d8b1707f-0ef2-445a-9609-9806893355b2",
   "metadata": {},
   "outputs": [
    {
     "data": {
      "text/plain": [
       "234"
      ]
     },
     "execution_count": 19,
     "metadata": {},
     "output_type": "execute_result"
    }
   ],
   "source": [
    "c.get_speed()"
   ]
  },
  {
   "cell_type": "code",
   "execution_count": 20,
   "id": "c87e7967-54f8-4f15-a0c9-dc91d3ba841e",
   "metadata": {},
   "outputs": [],
   "source": [
    "class bank_account :\n",
    "    def __init__(self , balance) :\n",
    "        self. __balance = balance\n",
    "    \n",
    "    def deposit(self , amount) :\n",
    "        self. __balance = self.__balance + amount\n",
    "        \n",
    "    def withdraw(self ,amount) :\n",
    "        if self.__balance >= amount :\n",
    "            self.__balance = self.__balance - amount\n",
    "            return True\n",
    "        else:\n",
    "            return False\n",
    "        \n",
    "    def get__balance(self):\n",
    "        return self.__balance"
   ]
  },
  {
   "cell_type": "code",
   "execution_count": 21,
   "id": "88bc82d6-99c8-4420-b1c1-c48702d5598a",
   "metadata": {},
   "outputs": [],
   "source": [
    "shahbaz = bank_account(1000)"
   ]
  },
  {
   "cell_type": "code",
   "execution_count": 22,
   "id": "1974af39-5415-4d43-8759-7700318bd9aa",
   "metadata": {},
   "outputs": [
    {
     "data": {
      "text/plain": [
       "1000"
      ]
     },
     "execution_count": 22,
     "metadata": {},
     "output_type": "execute_result"
    }
   ],
   "source": [
    "shahbaz.get__balance()"
   ]
  },
  {
   "cell_type": "code",
   "execution_count": 23,
   "id": "711ed255-b92e-4014-98b5-7d145fbafb1d",
   "metadata": {},
   "outputs": [],
   "source": [
    "shahbaz.deposit(5000)"
   ]
  },
  {
   "cell_type": "code",
   "execution_count": 24,
   "id": "019c414c-f278-469f-846b-9a71fad7057c",
   "metadata": {},
   "outputs": [
    {
     "data": {
      "text/plain": [
       "6000"
      ]
     },
     "execution_count": 24,
     "metadata": {},
     "output_type": "execute_result"
    }
   ],
   "source": [
    "shahbaz.get__balance()"
   ]
  },
  {
   "cell_type": "code",
   "execution_count": 25,
   "id": "882e11c1-d3b1-4650-a4e5-619e7bda2c69",
   "metadata": {},
   "outputs": [
    {
     "data": {
      "text/plain": [
       "False"
      ]
     },
     "execution_count": 25,
     "metadata": {},
     "output_type": "execute_result"
    }
   ],
   "source": [
    "shahbaz.withdraw(98000)"
   ]
  },
  {
   "cell_type": "code",
   "execution_count": 26,
   "id": "a9c5b313-c6ad-49b7-81ea-5040d4d02fa5",
   "metadata": {},
   "outputs": [
    {
     "data": {
      "text/plain": [
       "True"
      ]
     },
     "execution_count": 26,
     "metadata": {},
     "output_type": "execute_result"
    }
   ],
   "source": [
    "shahbaz.withdraw(3200)"
   ]
  },
  {
   "cell_type": "code",
   "execution_count": 27,
   "id": "a975bd12-a41d-44c6-9de5-1f4e183ee5e6",
   "metadata": {},
   "outputs": [
    {
     "data": {
      "text/plain": [
       "2800"
      ]
     },
     "execution_count": 27,
     "metadata": {},
     "output_type": "execute_result"
    }
   ],
   "source": [
    "shahbaz.get__balance()"
   ]
  },
  {
   "cell_type": "code",
   "execution_count": null,
   "id": "5deac5cf-30c1-4d87-bd44-6aae7e74f87e",
   "metadata": {},
   "outputs": [],
   "source": []
  }
 ],
 "metadata": {
  "kernelspec": {
   "display_name": "Python 3 (ipykernel)",
   "language": "python",
   "name": "python3"
  },
  "language_info": {
   "codemirror_mode": {
    "name": "ipython",
    "version": 3
   },
   "file_extension": ".py",
   "mimetype": "text/x-python",
   "name": "python",
   "nbconvert_exporter": "python",
   "pygments_lexer": "ipython3",
   "version": "3.10.8"
  }
 },
 "nbformat": 4,
 "nbformat_minor": 5
}
